{
 "cells": [
  {
   "cell_type": "markdown",
   "id": "446d25d8-32b3-4ab2-bb81-953b6a9c5216",
   "metadata": {},
   "source": [
    "<h1> Data Science Tools and Ecosystem </h1>"
   ]
  },
  {
   "cell_type": "markdown",
   "id": "676c4326-aa72-41f3-b474-3aaf29f17bc3",
   "metadata": {},
   "source": [
    "<h3>IBM Data Science Coursera: Submission for Course#2 (<i>Tools for Data Science</i>)\n",
    "<h2> Author Daniel Alan Collins </h2>"
   ]
  },
  {
   "cell_type": "markdown",
   "id": "ffb1b651-ab86-4e7d-a126-ca9fe8bc7c0e",
   "metadata": {},
   "source": [
    "In this notebook, Data Science Tools and Ecosystem are summarized.\n"
   ]
  },
  {
   "cell_type": "markdown",
   "id": "57c91fc6-54b8-48ac-b3f1-855c84cea601",
   "metadata": {},
   "source": [
    "Some of the popular languages that Data Scientists use are:\n",
    "1. Python\n",
    "2. R\n",
    "3. Java\n",
    "4. C++\n",
    "5. SQL\n"
   ]
  },
  {
   "cell_type": "markdown",
   "id": "ca0e20ce-8fc0-4484-9dd7-f5e623318248",
   "metadata": {},
   "source": [
    "Some of the commonly used libraries used by Data Scientists include:\n",
    "1. numpy\n",
    "2. pandas\n",
    "3. matplotlib\n",
    "4. seaborn\n",
    "5. sk-learn\n",
    "6. lxml\n",
    "7. requests\n",
    "8. bs4 (BeautifulSoup)\n",
    "9. PIL (python image library)\n",
    "10. tensorflow"
   ]
  },
  {
   "cell_type": "markdown",
   "id": "641f1991-d4a8-474d-b880-458a6b3cb4c8",
   "metadata": {},
   "source": [
    "## Exercise 6 - Create a markdown cell with a table of Data Science tools\n",
    "####  The subsequent three rows in the table should indicate \n",
    "####  three development environment open source tools used in data science.\n",
    "| Data Science Tools | Type |\n",
    "| ---- | ---- |\n",
    "| JupyterLab | IDE |\n",
    "| VSCode | IDE |\n",
    "| Spyder | IDE |\n",
    "| RStudio | IDE |\n",
    "| MySQL | Database |\n",
    "| Postgre SQL | Database |\n",
    "| MongoDB | Database(NoSQL) |\n",
    "| Apache CouchDB | Database(NoSQL)|\n",
    "| Apache Airflow | Data integration |\n",
    "| Kubeflow | Data integration |\n",
    "| Apache Kafka | Data integration  |\n",
    "| Apache Nifi | Data integration  |\n",
    "| Apache SparkSQL | Data integration |\n",
    "| NodeRED | Data integration |\n",
    "| Pixie Dust | Data Visualization | \n",
    "| Hue | Data Visualization | \n",
    "| Kibana | Data Visualization | \n",
    "| Apache Superset | Data Visualization | \n",
    "| Apache PredictionIO | Model Deployment | \n",
    "| Seldon | Model Deployment | \n",
    "| Kubernetes| Model Deployment | \n",
    "| Redhat OpenShift | Model Deployment | \n",
    "| Mleap | Model Deployment | \n",
    "| TensorFlow Lite| Model Deployment | \n",
    "| TensorFlow.JS | Model Deployment | \n",
    "| ModelDB | Model monitoring |\n",
    "| Prometheus | Model monitoring |\n",
    "| Hadoop | Cluster (Bigdata) |\n",
    "| HDFS | Cluster (Bigdata) |\n",
    "| Ceph | Cloud/Cluster (Bigdata) |\n",
    "| Github | Version control/management |\n",
    "| GitLab | Version control/management |\n",
    "| Bitbucket | Version control/management |\n",
    "| Kylo | Data management | \n",
    "| Apache Atlas | Data management | \n",
    "| ODPi Egeria | Data management | "
   ]
  },
  {
   "cell_type": "markdown",
   "id": "af37c007-58c4-445b-95d8-8004be998864",
   "metadata": {},
   "source": [
    "<h3> Below are a few examples of evaluating arithmetic expressions in Python </h3>"
   ]
  },
  {
   "cell_type": "code",
   "execution_count": 13,
   "id": "5498fc72-c1b2-4c93-9f6a-b7f52a66d9fa",
   "metadata": {},
   "outputs": [
    {
     "name": "stdout",
     "output_type": "stream",
     "text": [
      " Then execute the cell to ensure the expression returns the expected output of 17\n"
     ]
    }
   ],
   "source": [
    "# This a simple arithmetic expression to mutiply then add integers.\n",
    "Result = int ( ( 3 * 4 ) + 5 );\n",
    "print( \" Then execute the cell to ensure the expression returns the expected output of {:0d}\".format( Result ));"
   ]
  },
  {
   "cell_type": "code",
   "execution_count": 14,
   "id": "1969076d-25c0-47df-a930-4933fc81d3cb",
   "metadata": {},
   "outputs": [
    {
     "name": "stdout",
     "output_type": "stream",
     "text": [
      " Time in Hours: 3.333\n"
     ]
    }
   ],
   "source": [
    "# Exercise 9 - Create a code cell to convert minutes to hours\n",
    "def Minutes2Hours( timeMin, Rounding=None, Show=True ):\n",
    "    if Rounding==None:\n",
    "        timeHours = timeMin / 60 ;\n",
    "    else:\n",
    "        timeHours = round(( timeMin/60) ,Rounding);\n",
    "    if Show:\n",
    "        print(\" Time in Hours: {}\".format(timeHours));\n",
    "    return timeHours;\n",
    "# This will convert 200 minutes to hours by diving by 60\n",
    "Minutes2Hours( 200 ,Rounding= 3 );"
   ]
  },
  {
   "cell_type": "markdown",
   "id": "18a20456-2274-4bc5-88c1-a4d340f46a8e",
   "metadata": {},
   "source": [
    "<i> Exercise 10 - Insert a markdown cell to list Objectives </i>\n",
    "<b><h2> Objectives: </b></h2>\n",
    "\n",
    "* Markup in Jupyter notebook\n",
    "* List of popular languages for Data Science\n",
    "* Open-source development frame works\n",
    "* Libraries used with Data Science\n",
    "* Arithmetic expressions\n",
    "* Functions and function calling\n",
    "* Committing artifact to Github and releasing (sharing on public repository)"
   ]
  },
  {
   "cell_type": "markdown",
   "id": "439db908-8ef6-4b58-81ce-395d11277479",
   "metadata": {},
   "source": [
    "# Exercise 13:  Take a screenshot of the first page of the notebook.\n",
    "proof of 1-notebook.png ![proof](https://drive.google.com/file/d/1EXC949BRT0IhNpADfIzvZl7Qqyr6IS9V/view)\n",
    "\n",
    "1-notebook.png ![1-notebook](https://drive.google.com/drive/u/0/folders/1veE6pdUSiWVPc9UkUW0jsTyZDSO9bcB9/1-notebook.png)\n",
    "##### picture not showing for some odd permissions reasons (?)\n",
    "[1-notebook.png](https://drive.google.com/file/d/1EXC949BRT0IhNpADfIzvZl7Qqyr6IS9V/view)"
   ]
  },
  {
   "cell_type": "code",
   "execution_count": null,
   "id": "3f6e26a5-9d93-4b5d-9f45-86ff05dbc68a",
   "metadata": {},
   "outputs": [],
   "source": []
  },
  {
   "cell_type": "code",
   "execution_count": null,
   "id": "952777b9-5cae-484d-bda4-7ab2f9bf84c5",
   "metadata": {},
   "outputs": [],
   "source": []
  }
 ],
 "metadata": {
  "kernelspec": {
   "display_name": "Python 3 (ipykernel)",
   "language": "python",
   "name": "python3"
  },
  "language_info": {
   "codemirror_mode": {
    "name": "ipython",
    "version": 3
   },
   "file_extension": ".py",
   "mimetype": "text/x-python",
   "name": "python",
   "nbconvert_exporter": "python",
   "pygments_lexer": "ipython3",
   "version": "3.12.4"
  }
 },
 "nbformat": 4,
 "nbformat_minor": 5
}
